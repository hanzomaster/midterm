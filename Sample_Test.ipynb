{
  "nbformat": 4,
  "nbformat_minor": 0,
  "metadata": {
    "colab": {
      "provenance": [],
      "collapsed_sections": [
        "1d4cX16ZMN1_",
        "cpdsj4_gdcVI",
        "Sq0KASh8i9t5",
        "35qysFYil391",
        "GXDa6_FBmejf",
        "S0i5DDp4nOv-"
      ]
    },
    "kernelspec": {
      "name": "ir",
      "display_name": "R"
    },
    "language_info": {
      "name": "R"
    },
    "gpuClass": "standard"
  },
  "cells": [
    {
      "cell_type": "markdown",
      "source": [
        "# **Install packages**"
      ],
      "metadata": {
        "id": "1d4cX16ZMN1_"
      }
    },
    {
      "cell_type": "code",
      "source": [
        "# Install packages\n",
        "install.packages(c('pacman','MASS', 'car', 'BSDA', 'nortest', 'UsingR', 'lattice', 'XNomial'))"
      ],
      "metadata": {
        "colab": {
          "base_uri": "https://localhost:8080/"
        },
        "id": "aPPGrPXjIjC_",
        "outputId": "386b9c93-f69a-45cc-d2e8-315994dc3383"
      },
      "execution_count": null,
      "outputs": [
        {
          "output_type": "stream",
          "name": "stderr",
          "text": [
            "Installing packages into ‘/usr/local/lib/R/site-library’\n",
            "(as ‘lib’ is unspecified)\n",
            "\n",
            "also installing the dependencies ‘checkmate’, ‘htmlwidgets’, ‘numDeriv’, ‘SparseM’, ‘MatrixModels’, ‘minqa’, ‘nloptr’, ‘Rcpp’, ‘RcppEigen’, ‘proxy’, ‘gridExtra’, ‘htmlTable’, ‘viridis’, ‘Formula’, ‘carData’, ‘abind’, ‘pbkrtest’, ‘quantreg’, ‘lme4’, ‘e1071’, ‘HistData’, ‘Hmisc’\n",
            "\n",
            "\n"
          ]
        }
      ]
    },
    {
      "cell_type": "code",
      "source": [
        "library(pacman)\n",
        "p_load('MASS', 'car', 'BSDA', 'nortest', 'UsingR', 'lattice', 'XNomial')"
      ],
      "metadata": {
        "id": "xUHySumizDVh"
      },
      "execution_count": null,
      "outputs": []
    },
    {
      "cell_type": "code",
      "source": [
        "convert <- function(s) {\n",
        "    # gsub(\" \", \", \", s)\n",
        "    as.vector(as.numeric(strsplit(s, '\\\\s+')[[1]]))\n",
        "}"
      ],
      "metadata": {
        "id": "s2N3zcMCl9Bi"
      },
      "execution_count": null,
      "outputs": []
    },
    {
      "cell_type": "markdown",
      "source": [
        "# **Sample Test**\n",
        "\n",
        "* Link đề: https://drive.google.com/file/d/1zrnftdC6cMAnsVDCZIhBPRvscbsGD7Aw/view?usp=share_link\n",
        "\n",
        "* 03-error: https://drive.google.com/file/d/18KbyLE_OZUHwtKnF0KeMxfConXOU0M8Z/view"
      ],
      "metadata": {
        "id": "H55fH3aHckXE"
      }
    },
    {
      "cell_type": "markdown",
      "source": [
        "## **Câu 1-2**\n",
        "* Page 37/45 slide **03-error.pdf**"
      ],
      "metadata": {
        "id": "Nll6sDJhdHpF"
      }
    },
    {
      "cell_type": "markdown",
      "source": [
        "## **Câu 3-4**\n",
        "* Giảm đi"
      ],
      "metadata": {
        "id": "cpdsj4_gdcVI"
      }
    },
    {
      "cell_type": "code",
      "source": [
        "tsum.test(mean.x=7.5, s.x=2.5, conf.level=0.95, n.x=20)\n",
        "tsum.test(mean.x=7.5, s.x=2.5, conf.level=0.95, n.x=21)"
      ],
      "metadata": {
        "id": "qTWxd0Qvce2h",
        "colab": {
          "base_uri": "https://localhost:8080/",
          "height": 434
        },
        "outputId": "e08123f7-d870-44bf-f4cc-470ed815e3b4"
      },
      "execution_count": null,
      "outputs": [
        {
          "output_type": "display_data",
          "data": {
            "text/html": [
              "15"
            ],
            "text/markdown": "15",
            "text/latex": "15",
            "text/plain": [
              "[1] 15"
            ]
          },
          "metadata": {}
        },
        {
          "output_type": "display_data",
          "data": {
            "text/plain": [
              "\n",
              "\tOne Sample t-test\n",
              "\n",
              "data:  measure\n",
              "t = 277.99, df = 14, p-value < 2.2e-16\n",
              "alternative hypothesis: true mean is not equal to 0\n",
              "90 percent confidence interval:\n",
              " 338.7070 343.0263\n",
              "sample estimates:\n",
              "mean of x \n",
              " 340.8667 \n"
            ]
          },
          "metadata": {}
        },
        {
          "output_type": "display_data",
          "data": {
            "text/html": [
              "16"
            ],
            "text/markdown": "16",
            "text/latex": "16",
            "text/plain": [
              "[1] 16"
            ]
          },
          "metadata": {}
        },
        {
          "output_type": "display_data",
          "data": {
            "text/plain": [
              "\n",
              "\tOne Sample t-test\n",
              "\n",
              "data:  measure\n",
              "t = 37.4, df = 15, p-value = 3.173e-16\n",
              "alternative hypothesis: true mean is not equal to 0\n",
              "90 percent confidence interval:\n",
              " 316.4979 347.6271\n",
              "sample estimates:\n",
              "mean of x \n",
              " 332.0625 \n"
            ]
          },
          "metadata": {}
        }
      ]
    },
    {
      "cell_type": "markdown",
      "source": [
        "## **Câu 5**\n",
        "* 95 > 90"
      ],
      "metadata": {
        "id": "Sq0KASh8i9t5"
      }
    },
    {
      "cell_type": "code",
      "source": [
        "measure <- c(341, 345, 338, 339, 340, 343, 341, 343, 341, 328, 343, 347, 337, 348, 339)\n",
        "t.test(measure, conf.level=0.90)\n",
        "t.test(measure, conf.level=0.95)"
      ],
      "metadata": {
        "colab": {
          "base_uri": "https://localhost:8080/",
          "height": 399
        },
        "id": "wzTb41DgitMS",
        "outputId": "1f811b45-a99b-4ab2-9a67-6203df1d3daf"
      },
      "execution_count": null,
      "outputs": [
        {
          "output_type": "display_data",
          "data": {
            "text/plain": [
              "\n",
              "\tOne Sample t-test\n",
              "\n",
              "data:  measure\n",
              "t = 277.99, df = 14, p-value < 2.2e-16\n",
              "alternative hypothesis: true mean is not equal to 0\n",
              "90 percent confidence interval:\n",
              " 338.7070 343.0263\n",
              "sample estimates:\n",
              "mean of x \n",
              " 340.8667 \n"
            ]
          },
          "metadata": {}
        },
        {
          "output_type": "display_data",
          "data": {
            "text/plain": [
              "\n",
              "\tOne Sample t-test\n",
              "\n",
              "data:  measure\n",
              "t = 277.99, df = 14, p-value < 2.2e-16\n",
              "alternative hypothesis: true mean is not equal to 0\n",
              "95 percent confidence interval:\n",
              " 338.2368 343.4965\n",
              "sample estimates:\n",
              "mean of x \n",
              " 340.8667 \n"
            ]
          },
          "metadata": {}
        }
      ]
    },
    {
      "cell_type": "markdown",
      "source": [
        "## **Câu 6-9**\n",
        "* H0: giá trị trung bình = x\n",
        "* < 0.05: khác biệt, bác bỏ H0"
      ],
      "metadata": {
        "id": "RUOfalWmlL80"
      }
    },
    {
      "cell_type": "markdown",
      "source": [
        "## **Câu 10-12**\n",
        "* H0: chuẩn\n",
        "* < 0.05: không chuẩn"
      ],
      "metadata": {
        "id": "35qysFYil391"
      }
    },
    {
      "cell_type": "code",
      "source": [
        "data <- c(convert('5.78796667787702 5.61631038470897 5.79453558284314 5.23696996364743\n",
        "6.65413784413579 5.07114045555179 6.54711172666116 8.80159577330898\n",
        "5.24234813265502 5.61284507904202'))\n",
        "shapiro.test(data)"
      ],
      "metadata": {
        "colab": {
          "base_uri": "https://localhost:8080/",
          "height": 104
        },
        "id": "gGLdFJ4blz4j",
        "outputId": "9937acf0-3f30-4770-a224-6d34f619ff35"
      },
      "execution_count": null,
      "outputs": [
        {
          "output_type": "display_data",
          "data": {
            "text/plain": [
              "\n",
              "\tShapiro-Wilk normality test\n",
              "\n",
              "data:  data\n",
              "W = 0.77501, p-value = 0.007198\n"
            ]
          },
          "metadata": {}
        }
      ]
    },
    {
      "cell_type": "code",
      "source": [
        "data <- c(convert('5.52626722911373 5.09298190448592 5.95539747919412 5.47899163424427\n",
        "6.55637421450558 8.06100659055596 5.09511290012723 5.08687454508618\n",
        "6.34837774462522 7.29940791601751'))\n",
        "shapiro.test(data)"
      ],
      "metadata": {
        "id": "FtpIie6hmTG0"
      },
      "execution_count": null,
      "outputs": []
    },
    {
      "cell_type": "markdown",
      "source": [
        "## **Câu 13-14**\n",
        "* Giảm đi"
      ],
      "metadata": {
        "id": "GXDa6_FBmejf"
      }
    },
    {
      "cell_type": "code",
      "source": [
        "prop.test(x=10, n=60, p=0.5, conf.level = 0.9)\n",
        "prop.test(x=10, n=100, p=0.5, conf.level = 0.9)"
      ],
      "metadata": {
        "colab": {
          "base_uri": "https://localhost:8080/",
          "height": 399
        },
        "id": "FKDwiKVVmtZy",
        "outputId": "a71d7238-9ede-4c49-dd31-06776ccf0b2e"
      },
      "execution_count": null,
      "outputs": [
        {
          "output_type": "display_data",
          "data": {
            "text/plain": [
              "\n",
              "\t1-sample proportions test with continuity correction\n",
              "\n",
              "data:  10 out of 60, null probability 0.5\n",
              "X-squared = 25.35, df = 1, p-value = 4.782e-07\n",
              "alternative hypothesis: true p is not equal to 0.5\n",
              "90 percent confidence interval:\n",
              " 0.0958273 0.2691848\n",
              "sample estimates:\n",
              "        p \n",
              "0.1666667 \n"
            ]
          },
          "metadata": {}
        },
        {
          "output_type": "display_data",
          "data": {
            "text/plain": [
              "\n",
              "\t1-sample proportions test with continuity correction\n",
              "\n",
              "data:  10 out of 100, null probability 0.5\n",
              "X-squared = 62.41, df = 1, p-value = 2.789e-15\n",
              "alternative hypothesis: true p is not equal to 0.5\n",
              "90 percent confidence interval:\n",
              " 0.05689751 0.16623675\n",
              "sample estimates:\n",
              "  p \n",
              "0.1 \n"
            ]
          },
          "metadata": {}
        }
      ]
    },
    {
      "cell_type": "markdown",
      "source": [
        "## **Câu 15**\n",
        "* 95 > 90"
      ],
      "metadata": {
        "id": "S0i5DDp4nOv-"
      }
    },
    {
      "cell_type": "code",
      "source": [
        "prop.test(x=10, n=60, p=0.5, conf.level = 0.9)\n",
        "prop.test(x=10, n=60, p=0.5, conf.level = 0.95)"
      ],
      "metadata": {
        "colab": {
          "base_uri": "https://localhost:8080/"
        },
        "outputId": "ee2cf020-8fb6-4469-eb02-0b650b903f70",
        "id": "p-wAec_tnOwG"
      },
      "execution_count": null,
      "outputs": [
        {
          "output_type": "display_data",
          "data": {
            "text/plain": [
              "\n",
              "\t1-sample proportions test with continuity correction\n",
              "\n",
              "data:  10 out of 60, null probability 0.5\n",
              "X-squared = 25.35, df = 1, p-value = 4.782e-07\n",
              "alternative hypothesis: true p is not equal to 0.5\n",
              "90 percent confidence interval:\n",
              " 0.0958273 0.2691848\n",
              "sample estimates:\n",
              "        p \n",
              "0.1666667 \n"
            ]
          },
          "metadata": {}
        },
        {
          "output_type": "display_data",
          "data": {
            "text/plain": [
              "\n",
              "\t1-sample proportions test with continuity correction\n",
              "\n",
              "data:  10 out of 60, null probability 0.5\n",
              "X-squared = 25.35, df = 1, p-value = 4.782e-07\n",
              "alternative hypothesis: true p is not equal to 0.5\n",
              "95 percent confidence interval:\n",
              " 0.08701498 0.28979105\n",
              "sample estimates:\n",
              "        p \n",
              "0.1666667 \n"
            ]
          },
          "metadata": {}
        }
      ]
    },
    {
      "cell_type": "markdown",
      "source": [
        "## **Câu 16-19**\n",
        "* H0: giá trị trung bình = x%\n",
        "* < 0.05: khác biệt, bác bỏ H0"
      ],
      "metadata": {
        "id": "00EXkreNnpcK"
      }
    },
    {
      "cell_type": "markdown",
      "source": [
        "## **Câu 20-21**\n",
        "* Page 37/45 slide **03-error.pdf**\n",
        "* Sai sót loại I là a => confidence level là 1-a"
      ],
      "metadata": {
        "id": "p5lFMHQyf7QO"
      }
    },
    {
      "cell_type": "markdown",
      "source": [
        "## **Câu 22-23**\n",
        "* Page 37/45 slide **03-error.pdf**\n",
        "* Sai sót loại II là b => power của kiểm định thống kê là 1-b"
      ],
      "metadata": {
        "id": "sBA9_GgsguwA"
      }
    },
    {
      "cell_type": "markdown",
      "source": [
        "## **Câu 24**\n",
        "* Page 41-44/45 slide **03-error.pdf**\n",
        "* Cần tính sd, mean\n",
        "* Cỡ mẫu bé <= 30: **qt**, còn lại: **qnorm**"
      ],
      "metadata": {
        "id": "JXxr82Tyh3v0"
      }
    },
    {
      "cell_type": "code",
      "source": [
        "tw <- c(8.0, 7.0, 5.0, 9.0, 9.5, 11.3, 5.2, 8.5)\n",
        "s <- sd(tw)\n",
        "m <- mean(tw)\n",
        "\n",
        "alpha <- 0.1\n",
        "z <- qt(alpha/2, df=length(tw)-1)\n",
        "# z <- qnorm(1-alpha/2)\n",
        "e <- 0.035*m\n",
        "new_n <- (z*s/e)^2\n",
        "new_n"
      ],
      "metadata": {
        "colab": {
          "base_uri": "https://localhost:8080/",
          "height": 34
        },
        "id": "G5QTSVIYlIjC",
        "outputId": "feb8179d-70e0-4dd1-b1dc-54bffb4137b2"
      },
      "execution_count": null,
      "outputs": [
        {
          "output_type": "display_data",
          "data": {
            "text/html": [
              "213.925553371913"
            ],
            "text/markdown": "213.925553371913",
            "text/latex": "213.925553371913",
            "text/plain": [
              "[1] 213.9256"
            ]
          },
          "metadata": {}
        }
      ]
    },
    {
      "cell_type": "markdown",
      "source": [
        "## **Câu 25**\n",
        "* Page 45/45 slide **03-error.pdf**"
      ],
      "metadata": {
        "id": "ZxV2FjHmh4--"
      }
    },
    {
      "cell_type": "code",
      "source": [
        "alpha <- 0.05 # 1-conf\n",
        "p <- 0.4 # xác suất p\n",
        "e <- p*0.01 # % sai số\n",
        "z <- qnorm(1-alpha/2) # z bằng -qnorm(alpha/2)\n",
        "z\n",
        "n_new <- (z/e)^2*p*(1-p)\n",
        "n_new"
      ],
      "metadata": {
        "colab": {
          "base_uri": "https://localhost:8080/",
          "height": 52
        },
        "id": "YnogL6HxirYv",
        "outputId": "7e2bf4b4-ead3-4c14-98b3-c351f009cfe8"
      },
      "execution_count": null,
      "outputs": [
        {
          "output_type": "display_data",
          "data": {
            "text/html": [
              "1.95996398454005"
            ],
            "text/markdown": "1.95996398454005",
            "text/latex": "1.95996398454005",
            "text/plain": [
              "[1] 1.959964"
            ]
          },
          "metadata": {}
        },
        {
          "output_type": "display_data",
          "data": {
            "text/html": [
              "57621.8823104119"
            ],
            "text/markdown": "57621.8823104119",
            "text/latex": "57621.8823104119",
            "text/plain": [
              "[1] 57621.88"
            ]
          },
          "metadata": {}
        }
      ]
    }
  ]
}