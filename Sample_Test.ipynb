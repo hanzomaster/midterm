{
  "cells": [
    {
      "cell_type": "markdown",
      "metadata": {
        "id": "1d4cX16ZMN1_"
      },
      "source": [
        "# **Install packages**"
      ]
    },
    {
      "cell_type": "code",
      "execution_count": 4,
      "metadata": {
        "colab": {
          "base_uri": "https://localhost:8080/"
        },
        "id": "aPPGrPXjIjC_",
        "outputId": "386b9c93-f69a-45cc-d2e8-315994dc3383",
        "vscode": {
          "languageId": "r"
        }
      },
      "outputs": [
        {
          "name": "stderr",
          "output_type": "stream",
          "text": [
            "Installing packages into ‘/usr/local/lib/R/site-library’\n",
            "(as ‘lib’ is unspecified)\n",
            "\n"
          ]
        }
      ],
      "source": [
        "# Install packages\n",
        "install.packages(c(\"pacman\", \"MASS\", \"car\", \"BSDA\", \"nortest\", \"UsingR\", \"lattice\", \"XNomial\")) # nolint: line_length_linter.\n"
      ]
    },
    {
      "cell_type": "code",
      "execution_count": 5,
      "metadata": {
        "id": "xUHySumizDVh",
        "vscode": {
          "languageId": "r"
        }
      },
      "outputs": [],
      "source": [
        "library(pacman)\n",
        "p_load(\"MASS\", \"car\", \"BSDA\", \"nortest\", \"UsingR\", \"lattice\", \"XNomial\")\n"
      ]
    },
    {
      "cell_type": "code",
      "execution_count": 6,
      "metadata": {
        "id": "s2N3zcMCl9Bi",
        "vscode": {
          "languageId": "r"
        }
      },
      "outputs": [],
      "source": [
        "convert <- function(s) {\n",
        "  # gsub(\" \", \", \", s)\n",
        "  as.vector(as.numeric(strsplit(s, \"\\\\s+\")[[1]]))\n",
        "}\n"
      ]
    },
    {
      "cell_type": "markdown",
      "metadata": {
        "id": "H55fH3aHckXE"
      },
      "source": [
        "# **Sample Test**\n",
        "\n",
        "* Link đề: https://drive.google.com/file/d/1zrnftdC6cMAnsVDCZIhBPRvscbsGD7Aw/view?usp=share_link\n",
        "\n",
        "* 03-error: https://drive.google.com/file/d/18KbyLE_OZUHwtKnF0KeMxfConXOU0M8Z/view"
      ]
    },
    {
      "cell_type": "markdown",
      "metadata": {
        "id": "Nll6sDJhdHpF"
      },
      "source": [
        "## **Câu 1-2**\n",
        "* Page 37/45 slide **03-error.pdf**"
      ]
    },
    {
      "cell_type": "markdown",
      "metadata": {
        "id": "cpdsj4_gdcVI"
      },
      "source": [
        "## **Câu 3-4**\n",
        "* Giảm đi"
      ]
    },
    {
      "cell_type": "code",
      "execution_count": 7,
      "metadata": {
        "colab": {
          "base_uri": "https://localhost:8080/",
          "height": 434
        },
        "id": "qTWxd0Qvce2h",
        "outputId": "e08123f7-d870-44bf-f4cc-470ed815e3b4",
        "vscode": {
          "languageId": "r"
        }
      },
      "outputs": [
        {
          "name": "stderr",
          "output_type": "stream",
          "text": [
            "Warning message in tsum.test(mean.x = 7.5, s.x = 2.5, conf.level = 0.95, n.x = 20):\n",
            "“argument 'var.equal' ignored for one-sample test.”\n"
          ]
        },
        {
          "data": {
            "text/plain": [
              "\n",
              "\tOne-sample t-Test\n",
              "\n",
              "data:  Summarized x\n",
              "t = 13.416, df = 19, p-value = 3.851e-11\n",
              "alternative hypothesis: true mean is not equal to 0\n",
              "95 percent confidence interval:\n",
              " 6.329964 8.670036\n",
              "sample estimates:\n",
              "mean of x \n",
              "      7.5 \n"
            ]
          },
          "metadata": {},
          "output_type": "display_data"
        },
        {
          "name": "stderr",
          "output_type": "stream",
          "text": [
            "Warning message in tsum.test(mean.x = 7.5, s.x = 2.5, conf.level = 0.95, n.x = 21):\n",
            "“argument 'var.equal' ignored for one-sample test.”\n"
          ]
        },
        {
          "data": {
            "text/plain": [
              "\n",
              "\tOne-sample t-Test\n",
              "\n",
              "data:  Summarized x\n",
              "t = 13.748, df = 20, p-value = 1.187e-11\n",
              "alternative hypothesis: true mean is not equal to 0\n",
              "95 percent confidence interval:\n",
              " 6.362014 8.637986\n",
              "sample estimates:\n",
              "mean of x \n",
              "      7.5 \n"
            ]
          },
          "metadata": {},
          "output_type": "display_data"
        }
      ],
      "source": [
        "tsum.test(mean.x = 7.5, s.x = 2.5, conf.level = 0.95, n.x = 20)\n",
        "tsum.test(mean.x = 7.5, s.x = 2.5, conf.level = 0.95, n.x = 21)\n"
      ]
    },
    {
      "cell_type": "markdown",
      "metadata": {
        "id": "Sq0KASh8i9t5"
      },
      "source": [
        "## **Câu 5**\n",
        "* 95 > 90"
      ]
    },
    {
      "cell_type": "code",
      "execution_count": 8,
      "metadata": {
        "colab": {
          "base_uri": "https://localhost:8080/",
          "height": 399
        },
        "id": "wzTb41DgitMS",
        "outputId": "1f811b45-a99b-4ab2-9a67-6203df1d3daf",
        "vscode": {
          "languageId": "r"
        }
      },
      "outputs": [
        {
          "data": {
            "text/plain": [
              "\n",
              "\tOne Sample t-test\n",
              "\n",
              "data:  measure\n",
              "t = 277.99, df = 14, p-value < 2.2e-16\n",
              "alternative hypothesis: true mean is not equal to 0\n",
              "90 percent confidence interval:\n",
              " 338.7070 343.0263\n",
              "sample estimates:\n",
              "mean of x \n",
              " 340.8667 \n"
            ]
          },
          "metadata": {},
          "output_type": "display_data"
        },
        {
          "data": {
            "text/plain": [
              "\n",
              "\tOne Sample t-test\n",
              "\n",
              "data:  measure\n",
              "t = 277.99, df = 14, p-value < 2.2e-16\n",
              "alternative hypothesis: true mean is not equal to 0\n",
              "95 percent confidence interval:\n",
              " 338.2368 343.4965\n",
              "sample estimates:\n",
              "mean of x \n",
              " 340.8667 \n"
            ]
          },
          "metadata": {},
          "output_type": "display_data"
        }
      ],
      "source": [
        "measure <- c(341, 345, 338, 339, 340, 343, 341, 343, 341, 328, 343, 347, 337, 348, 339)\n",
        "t.test(measure, conf.level = 0.90)\n",
        "t.test(measure, conf.level = 0.95)\n"
      ]
    },
    {
      "cell_type": "markdown",
      "metadata": {
        "id": "RUOfalWmlL80"
      },
      "source": [
        "## **Câu 6-9**\n",
        "* H0 là ngược lại của `alternative hypothesis`\n",
        "* < 0.05: khác biệt, bác bỏ H0"
      ]
    },
    {
      "cell_type": "markdown",
      "metadata": {
        "id": "35qysFYil391"
      },
      "source": [
        "## **Câu 10-12**\n",
        "* H0: chuẩn\n",
        "* < 0.05: không chuẩn"
      ]
    },
    {
      "cell_type": "code",
      "execution_count": 9,
      "metadata": {
        "colab": {
          "base_uri": "https://localhost:8080/",
          "height": 104
        },
        "id": "gGLdFJ4blz4j",
        "outputId": "9937acf0-3f30-4770-a224-6d34f619ff35",
        "vscode": {
          "languageId": "r"
        }
      },
      "outputs": [
        {
          "data": {
            "text/plain": [
              "\n",
              "\tShapiro-Wilk normality test\n",
              "\n",
              "data:  data\n",
              "W = 0.77501, p-value = 0.007198\n"
            ]
          },
          "metadata": {},
          "output_type": "display_data"
        }
      ],
      "source": [
        "data <- c(convert(\"5.78796667787702 5.61631038470897 5.79453558284314 5.23696996364743\n",
        "6.65413784413579 5.07114045555179 6.54711172666116 8.80159577330898\n",
        "5.24234813265502 5.61284507904202\"))\n",
        "shapiro.test(data)\n"
      ]
    },
    {
      "cell_type": "code",
      "execution_count": 16,
      "metadata": {
        "id": "FtpIie6hmTG0",
        "vscode": {
          "languageId": "r"
        }
      },
      "outputs": [
        {
          "data": {
            "text/plain": [
              "\n",
              "\tShapiro-Wilk normality test\n",
              "\n",
              "data:  data\n",
              "W = 0.88383, p-value = 0.1443\n"
            ]
          },
          "metadata": {},
          "output_type": "display_data"
        }
      ],
      "source": [
        "data <- c(convert(\"5.52626722911373 5.09298190448592 5.95539747919412 5.47899163424427\n",
        "6.55637421450558 8.06100659055596 5.09511290012723 5.08687454508618\n",
        "6.34837774462522 7.29940791601751\"))\n",
        "shapiro.test(data)\n"
      ]
    },
    {
      "cell_type": "markdown",
      "metadata": {
        "id": "GXDa6_FBmejf"
      },
      "source": [
        "## **Câu 13-14**\n",
        "* Giảm đi"
      ]
    },
    {
      "cell_type": "code",
      "execution_count": 11,
      "metadata": {
        "colab": {
          "base_uri": "https://localhost:8080/",
          "height": 399
        },
        "id": "FKDwiKVVmtZy",
        "outputId": "a71d7238-9ede-4c49-dd31-06776ccf0b2e",
        "vscode": {
          "languageId": "r"
        }
      },
      "outputs": [
        {
          "data": {
            "text/plain": [
              "\n",
              "\t1-sample proportions test with continuity correction\n",
              "\n",
              "data:  10 out of 60, null probability 0.5\n",
              "X-squared = 25.35, df = 1, p-value = 4.782e-07\n",
              "alternative hypothesis: true p is not equal to 0.5\n",
              "90 percent confidence interval:\n",
              " 0.0958273 0.2691848\n",
              "sample estimates:\n",
              "        p \n",
              "0.1666667 \n"
            ]
          },
          "metadata": {},
          "output_type": "display_data"
        },
        {
          "data": {
            "text/plain": [
              "\n",
              "\t1-sample proportions test with continuity correction\n",
              "\n",
              "data:  10 out of 100, null probability 0.5\n",
              "X-squared = 62.41, df = 1, p-value = 2.789e-15\n",
              "alternative hypothesis: true p is not equal to 0.5\n",
              "90 percent confidence interval:\n",
              " 0.05689751 0.16623675\n",
              "sample estimates:\n",
              "  p \n",
              "0.1 \n"
            ]
          },
          "metadata": {},
          "output_type": "display_data"
        }
      ],
      "source": [
        "prop.test(x = 10, n = 60, p = 0.5, conf.level = 0.9)\n",
        "prop.test(x = 10, n = 100, p = 0.5, conf.level = 0.9)\n"
      ]
    },
    {
      "cell_type": "markdown",
      "metadata": {
        "id": "S0i5DDp4nOv-"
      },
      "source": [
        "## **Câu 15**\n",
        "* 95 > 90"
      ]
    },
    {
      "cell_type": "code",
      "execution_count": 12,
      "metadata": {
        "colab": {
          "base_uri": "https://localhost:8080/"
        },
        "id": "p-wAec_tnOwG",
        "outputId": "ee2cf020-8fb6-4469-eb02-0b650b903f70",
        "vscode": {
          "languageId": "r"
        }
      },
      "outputs": [
        {
          "data": {
            "text/plain": [
              "\n",
              "\t1-sample proportions test with continuity correction\n",
              "\n",
              "data:  10 out of 60, null probability 0.5\n",
              "X-squared = 25.35, df = 1, p-value = 4.782e-07\n",
              "alternative hypothesis: true p is not equal to 0.5\n",
              "90 percent confidence interval:\n",
              " 0.0958273 0.2691848\n",
              "sample estimates:\n",
              "        p \n",
              "0.1666667 \n"
            ]
          },
          "metadata": {},
          "output_type": "display_data"
        },
        {
          "data": {
            "text/plain": [
              "\n",
              "\t1-sample proportions test with continuity correction\n",
              "\n",
              "data:  10 out of 60, null probability 0.5\n",
              "X-squared = 25.35, df = 1, p-value = 4.782e-07\n",
              "alternative hypothesis: true p is not equal to 0.5\n",
              "95 percent confidence interval:\n",
              " 0.08701498 0.28979105\n",
              "sample estimates:\n",
              "        p \n",
              "0.1666667 \n"
            ]
          },
          "metadata": {},
          "output_type": "display_data"
        }
      ],
      "source": [
        "prop.test(x = 10, n = 60, p = 0.5, conf.level = 0.9)\n",
        "prop.test(x = 10, n = 60, p = 0.5, conf.level = 0.95)\n"
      ]
    },
    {
      "cell_type": "markdown",
      "metadata": {
        "id": "00EXkreNnpcK"
      },
      "source": [
        "## **Câu 16-19**\n",
        "* H0: giá trị trung bình = x%\n",
        "* < 0.05: khác biệt, bác bỏ H0"
      ]
    },
    {
      "cell_type": "markdown",
      "metadata": {
        "id": "p5lFMHQyf7QO"
      },
      "source": [
        "## **Câu 20-21**\n",
        "* Page 37/45 slide **03-error.pdf**\n",
        "* Sai sót loại I là a => confidence level là 1-a"
      ]
    },
    {
      "cell_type": "markdown",
      "metadata": {
        "id": "sBA9_GgsguwA"
      },
      "source": [
        "## **Câu 22-23**\n",
        "* Page 37/45 slide **03-error.pdf**\n",
        "* Sai sót loại II là b => power của kiểm định thống kê là 1-b"
      ]
    },
    {
      "cell_type": "markdown",
      "metadata": {
        "id": "JXxr82Tyh3v0"
      },
      "source": [
        "## **Câu 24**\n",
        "* Page 41-44/45 slide **03-error.pdf**\n",
        "* Cần tính sd, mean\n",
        "* Cỡ mẫu bé <= 30: **qt**, còn lại: **qnorm**"
      ]
    },
    {
      "cell_type": "code",
      "execution_count": 29,
      "metadata": {
        "colab": {
          "base_uri": "https://localhost:8080/",
          "height": 34
        },
        "id": "G5QTSVIYlIjC",
        "outputId": "feb8179d-70e0-4dd1-b1dc-54bffb4137b2",
        "vscode": {
          "languageId": "r"
        }
      },
      "outputs": [
        {
          "data": {
            "text/html": [
              "79.7744793776023"
            ],
            "text/latex": [
              "79.7744793776023"
            ],
            "text/markdown": [
              "79.7744793776023"
            ],
            "text/plain": [
              "[1] 79.77448"
            ]
          },
          "metadata": {},
          "output_type": "display_data"
        }
      ],
      "source": [
        "tw <- c(6.076530, 5.711984, 6.521466, 5.989943, 4.487408, 6.708439, 4.83354, 5.427686, 7.972804, 5.743552)\n",
        "s <- sd(tw)\n",
        "m <- mean(tw)\n",
        "\n",
        "alpha <- 0.05\n",
        "z <- qt(alpha / 2, df = length(tw) - 1)\n",
        "# z <- qnorm(1-alpha/2)\n",
        "e <- 0.25 # if the error is relative, multiply by the mean\n",
        "new_n <- (z * s / e)^2\n",
        "new_n\n"
      ]
    },
    {
      "cell_type": "markdown",
      "metadata": {
        "id": "ZxV2FjHmh4--"
      },
      "source": [
        "## **Câu 25**\n",
        "* Page 45/45 slide **03-error.pdf**"
      ]
    },
    {
      "cell_type": "code",
      "execution_count": 14,
      "metadata": {
        "colab": {
          "base_uri": "https://localhost:8080/",
          "height": 52
        },
        "id": "YnogL6HxirYv",
        "outputId": "7e2bf4b4-ead3-4c14-98b3-c351f009cfe8",
        "vscode": {
          "languageId": "r"
        }
      },
      "outputs": [
        {
          "data": {
            "text/html": [
              "1.95996398454005"
            ],
            "text/latex": [
              "1.95996398454005"
            ],
            "text/markdown": [
              "1.95996398454005"
            ],
            "text/plain": [
              "[1] 1.959964"
            ]
          },
          "metadata": {},
          "output_type": "display_data"
        },
        {
          "data": {
            "text/html": [
              "57621.8823104119"
            ],
            "text/latex": [
              "57621.8823104119"
            ],
            "text/markdown": [
              "57621.8823104119"
            ],
            "text/plain": [
              "[1] 57621.88"
            ]
          },
          "metadata": {},
          "output_type": "display_data"
        }
      ],
      "source": [
        "alpha <- 0.05 # 1-conf\n",
        "p <- 0.4 # xác suất p\n",
        "e <- p * 0.01 # % sai số\n",
        "z <- qnorm(1 - alpha / 2) # z bằng -qnorm(alpha/2)\n",
        "z\n",
        "n_new <- (z / e)^2 * p * (1 - p)\n",
        "n_new\n"
      ]
    }
  ],
  "metadata": {
    "colab": {
      "collapsed_sections": [
        "1d4cX16ZMN1_",
        "cpdsj4_gdcVI",
        "Sq0KASh8i9t5",
        "35qysFYil391",
        "GXDa6_FBmejf",
        "S0i5DDp4nOv-"
      ],
      "provenance": []
    },
    "gpuClass": "standard",
    "kernelspec": {
      "display_name": "R",
      "language": "R",
      "name": "ir"
    },
    "language_info": {
      "codemirror_mode": "r",
      "file_extension": ".r",
      "mimetype": "text/x-r-source",
      "name": "R",
      "pygments_lexer": "r",
      "version": "4.2.2"
    }
  },
  "nbformat": 4,
  "nbformat_minor": 0
}
