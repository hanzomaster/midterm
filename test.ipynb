{
  "cells": [
    {
      "cell_type": "markdown",
      "metadata": {},
      "source": [
        "# Giới thiệu\n",
        "\n",
        "Đây là một bài kiểm tra giữa kỳ mẫu của môn Phân tích đánh giá hiệu năng hệ thống của thầy Hải Châu.\n",
        "\n",
        "Đây chỉ là file mà mình dùng để làm bài, có thể sẽ có một vài câu mà mình làm sai :v"
      ]
    },
    {
      "cell_type": "markdown",
      "metadata": {},
      "source": [
        "## Câu 1\n",
        "Một nhóm phát triển thay đổi giao diện web từ A sang B và lấy ý kiến người sử dụng.\n",
        "Mỗi người sử dụng được lựa chọn một lần A hoặc B.\n",
        "Tính số người cần lấy ý kiến để sai số của kiểm định tỷ lệ p=0.5 nhỏ hơn +/-1% với xác xuất 95%"
      ]
    },
    {
      "cell_type": "code",
      "execution_count": 92,
      "metadata": {
        "vscode": {
          "languageId": "r"
        }
      },
      "outputs": [
        {
          "data": {
            "text/html": [
              "9219.50116966589"
            ],
            "text/latex": [
              "9219.50116966589"
            ],
            "text/markdown": [
              "9219.50116966589"
            ],
            "text/plain": [
              "[1] 9219.501"
            ]
          },
          "metadata": {},
          "output_type": "display_data"
        },
        {
          "name": "stdout",
          "output_type": "stream",
          "text": [
            "[1] \"Số người cần lấy ý kiến là: 9220\"\n"
          ]
        }
      ],
      "source": [
        "# Khai báo các biến\n",
        "conf <- 0.95\n",
        "alpha <- 1 - 0.95 # (1-conf)\n",
        "p <- 0.4 # tỷ lệ\n",
        "e <- 0.01 # sai số\n",
        "z <- qnorm(1 - alpha / 2) # z bằng -qnorm(alpha/2)\n",
        "\n",
        "# Tính kích thước mẫu\n",
        "n <- (p * (1 - p) * z^2) / e^2\n",
        "\n",
        "n\n",
        "\n",
        "# Làm tròn lên để có số nguyên\n",
        "n <- ceiling(n)\n",
        "\n",
        "# In kết quả\n",
        "print(paste(\"Số người cần lấy ý kiến là:\", n))\n"
      ]
    },
    {
      "cell_type": "markdown",
      "metadata": {},
      "source": [
        "## Câu 2\n",
        "\n",
        "Bộ dữ liệu `InsectSprays` cho ta biết hiệu quả của 6 loại thuốc trừ sâu từ A → F bằng số côn trùng bị chết khi sử dụng thuốc trên một đơn vị diện tích nông nghiệp:\n",
        "\n",
        "Hãy so sánh hiệu quả của 6 loại thuốc trên và chọn các phương án đúng:\n",
        "\n",
        "- [ ] Thuốc D hiệu quả hơn thuốc C\n",
        "- [x] Thuốc F hiệu quả hơn thuốc C\n",
        "- [x] Thuốc F hiệu quả hơn thuốc E\n",
        "- [ ] Thuốc D hiệu quả hơn thuốc E"
      ]
    },
    {
      "cell_type": "code",
      "execution_count": 40,
      "metadata": {
        "vscode": {
          "languageId": "r"
        }
      },
      "outputs": [
        {
          "data": {
            "text/plain": [
              "  Tukey multiple comparisons of means\n",
              "    95% family-wise confidence level\n",
              "\n",
              "Fit: aov(formula = count ~ spray, data = InsectSprays)\n",
              "\n",
              "$spray\n",
              "           diff        lwr       upr     p adj\n",
              "B-A   0.8333333  -3.866075  5.532742 0.9951810\n",
              "C-A -12.4166667 -17.116075 -7.717258 0.0000000\n",
              "D-A  -9.5833333 -14.282742 -4.883925 0.0000014\n",
              "E-A -11.0000000 -15.699409 -6.300591 0.0000000\n",
              "F-A   2.1666667  -2.532742  6.866075 0.7542147\n",
              "C-B -13.2500000 -17.949409 -8.550591 0.0000000\n",
              "D-B -10.4166667 -15.116075 -5.717258 0.0000002\n",
              "E-B -11.8333333 -16.532742 -7.133925 0.0000000\n",
              "F-B   1.3333333  -3.366075  6.032742 0.9603075\n",
              "D-C   2.8333333  -1.866075  7.532742 0.4920707\n",
              "E-C   1.4166667  -3.282742  6.116075 0.9488669\n",
              "F-C  14.5833333   9.883925 19.282742 0.0000000\n",
              "E-D  -1.4166667  -6.116075  3.282742 0.9488669\n",
              "F-D  11.7500000   7.050591 16.449409 0.0000000\n",
              "F-E  13.1666667   8.467258 17.866075 0.0000000\n"
            ]
          },
          "metadata": {},
          "output_type": "display_data"
        },
        {
          "data": {
            "image/png": "[encoded data removed]",
            "text/plain": [
              "plot without title"
            ]
          },
          "metadata": {
            "image/png": {
              "height": 420,
              "width": 420
            }
          },
          "output_type": "display_data"
        }
      ],
      "source": [
        "# Load the dataset if necessary\n",
        "data(InsectSprays)\n",
        "# Visualize distribution of insect counts for each spray type\n",
        "boxplot(count ~ spray, data = InsectSprays)\n",
        "# Perform ANOVA\n",
        "anova_result <- aov(count ~ spray, data = InsectSprays)\n",
        "# Perform Tukey HSD\n",
        "TukeyHSD(anova_result)\n"
      ]
    },
    {
      "cell_type": "markdown",
      "metadata": {},
      "source": [
        "### Đáp án\n",
        "Từ kết quả quả của hàm `aov` phục vụ cho __ANOVA__ (**Analysis of Variance**) và hàm `Post-hoc test` `TukeyHSD`.\n",
        "> **Post-hoc Tests:** If ANOVA indicates significant differences, often Tukey's HSD test is used to make pairwise comparisons and determine which specific sprays differ from each other\n",
        "\n",
        "Ta có thể thấy được giá trị của __F__ hơn hẳn so với __C__, __D__, và __E__ trên ảnh và qua bảng thống kê thì các giá trị so sánh của F với các loại thuốc này cũng dương (chứng tỏ bên trái lớn hơn) và `p-value` của các so sánh này cũng nằm dưới 0.05 là đủ để tin tưởng giả thuyết.\n",
        "\n",
        "Còn đối với lý do tại sao **D** không hiệu quả hơn **E** hay **C** so trên hình thì khoảng giá trị của 2 loại thuốc này vẫn còn đan xen vào nhau và trên bảng thống kê thì giá trị của các `p-value` lớn hơn 0.05 nên ta không thể tin tưởng vào giả thuyết được đưa ra"
      ]
    },
    {
      "cell_type": "markdown",
      "metadata": {},
      "source": [
        "## Câu 3\n",
        "\n",
        "Cho bộ dữ liệu `mtcars` có sẵn trong R. Biến `vs` cho biết động cơ của ô tô được sắp xếp theo hình chữ V (`vs=0`) hay xếp thẳng (`vs=1`). Hãy so sánh tỷ lệ ô tô có động cơ sắp xếp theo hình chữ V trên tổng số ô tô (p) với 50% và chọn 2 phương án đúng:\n",
        "\n",
        "- [ ] Sự khác biệt giữa p và 50% không có ý nghĩa thống kê do `p-value < 0.5`\n",
        "- [ ] `H0: p!=50%`\n",
        "- [x] `H0: p=50%`\n",
        "- [x] Sự khác biệt giữa p và 50% không có ý nghĩa thống kê do `p-value > 0.5`"
      ]
    },
    {
      "cell_type": "code",
      "execution_count": 62,
      "metadata": {
        "vscode": {
          "languageId": "r"
        }
      },
      "outputs": [
        {
          "data": {
            "text/html": [
              "18"
            ],
            "text/latex": [
              "18"
            ],
            "text/markdown": [
              "18"
            ],
            "text/plain": [
              "[1] 18"
            ]
          },
          "metadata": {},
          "output_type": "display_data"
        },
        {
          "data": {
            "text/html": [
              "32"
            ],
            "text/latex": [
              "32"
            ],
            "text/markdown": [
              "32"
            ],
            "text/plain": [
              "[1] 32"
            ]
          },
          "metadata": {},
          "output_type": "display_data"
        },
        {
          "data": {
            "text/plain": [
              "\n",
              "\t1-sample proportions test with continuity correction\n",
              "\n",
              "data:  x out of n, null probability 0.5\n",
              "X-squared = 0.28125, df = 1, p-value = 0.5959\n",
              "alternative hypothesis: true p is not equal to 0.5\n",
              "95 percent confidence interval:\n",
              " 0.3788033 0.7316489\n",
              "sample estimates:\n",
              "     p \n",
              "0.5625 \n"
            ]
          },
          "metadata": {},
          "output_type": "display_data"
        }
      ],
      "source": [
        "library(car)\n",
        "data(mtcars)\n",
        "mtcars <- mtcars[order(mtcars$vs), ]\n",
        "x <- sum(mtcars$vs == 0)\n",
        "x\n",
        "n <- nrow(mtcars)\n",
        "n\n",
        "prop.test(x, n, p = 0.5, alternative = \"two.sided\")\n"
      ]
    },
    {
      "cell_type": "markdown",
      "metadata": {},
      "source": [
        "### Đáp án\n",
        "\n",
        "Ở đây ta thấy có 18 xe có động cơ chữ V, sử dụng hàm `prop.test` ta kiểm tra tỷ lệ (probability) của số xe có động cơ chữ V so với tổng số xe (32)\n",
        "\n",
        "→ Ta có thể thấy từ kết quả là `p-value=0.5959` và `H0: p=50%`\n"
      ]
    },
    {
      "cell_type": "markdown",
      "metadata": {},
      "source": [
        "## Câu 4\n",
        "\n",
        "Một kiểm định t (t.test) có kết quả trong R như sau:\n",
        "\n",
        "> One sample t-test\n",
        "> data: x\n",
        "> t = -51.822, df = 99, p-value < 2.2e-16\n",
        "> alternative hypothesis: true mean is not equal to 0\n",
        "> 95 percent confidence interval:\n",
        "> -0.5177778 -0.4795893\n",
        "> sample estimates:\n",
        "> mean of x\n",
        "> -0.4986836\n",
        "\n",
        "Hãy chọn 2 mệnh đề đúng:\n",
        "\n",
        "- [x] H0: giá trị trung bình bằng 0\n",
        "- [x] Bác bỏ giả thuyết khác 0\n",
        "- [ ] H0: giá trị trung bình khác 0\n",
        "- [ ] Không thể bác bỏ giả thuyết khác 0\n",
        "\n",
        "### Đáp án\n",
        "Nhìn vào ta thấy giả thuyết khác 0 là ngược lại của `alternative hypothesis` nên ta chọn câu đầu và giá trị `p-value < 2.2e-16` tức là bé hơn 0.05 nên là ta không thể bác bỏ giả thuyết khác 0"
      ]
    },
    {
      "cell_type": "markdown",
      "metadata": {},
      "source": [
        "## Câu 5\n",
        "\n",
        "TitanicSurvival là bộ dữ liệu trong thư viện car, cho biết danh sách hành khách chết và sống sót trong thảm họa tàu Titanic được phân chia theo giới tính, tuổi và hạng vé. Hãy chọn phương án đúng:\n",
        "\n",
        "- [x] Tỷ lệ sống sót của hành khách có vé hạng 1st cao hơn hành khách có vé hạng 3rd\n",
        "- [ ] Tỷ lệ hành khách sống sót ở cả 3 hạng vẽ khác nhau không có sự khác biệt\n",
        "- [ ] Tỷ lệ sống sót của hành khách có vé hạng 1st thấp hơn hành khách có vé hạng 3rd\n"
      ]
    },
    {
      "cell_type": "code",
      "execution_count": 75,
      "metadata": {
        "vscode": {
          "languageId": "r"
        }
      },
      "outputs": [
        {
          "data": {
            "text/html": [
              "<table class=\"dataframe\">\n",
              "<caption>A data.frame: 6 × 4</caption>\n",
              "<thead>\n",
              "\t<tr><th></th><th scope=col>survived</th><th scope=col>sex</th><th scope=col>age</th><th scope=col>passengerClass</th></tr>\n",
              "\t<tr><th></th><th scope=col>&lt;fct&gt;</th><th scope=col>&lt;fct&gt;</th><th scope=col>&lt;dbl&gt;</th><th scope=col>&lt;fct&gt;</th></tr>\n",
              "</thead>\n",
              "<tbody>\n",
              "\t<tr><th scope=row>Allen, Miss. Elisabeth Walton</th><td>yes</td><td>female</td><td>29.0000</td><td>1st</td></tr>\n",
              "\t<tr><th scope=row>Allison, Master. Hudson Trevor</th><td>yes</td><td>male  </td><td> 0.9167</td><td>1st</td></tr>\n",
              "\t<tr><th scope=row>Allison, Miss. Helen Loraine</th><td>no </td><td>female</td><td> 2.0000</td><td>1st</td></tr>\n",
              "\t<tr><th scope=row>Allison, Mr. Hudson Joshua Crei</th><td>no </td><td>male  </td><td>30.0000</td><td>1st</td></tr>\n",
              "\t<tr><th scope=row>Allison, Mrs. Hudson J C (Bessi</th><td>no </td><td>female</td><td>25.0000</td><td>1st</td></tr>\n",
              "\t<tr><th scope=row>Anderson, Mr. Harry</th><td>yes</td><td>male  </td><td>48.0000</td><td>1st</td></tr>\n",
              "</tbody>\n",
              "</table>\n"
            ],
            "text/latex": [
              "A data.frame: 6 × 4\n",
              "\\begin{tabular}{r|llll}\n",
              "  & survived & sex & age & passengerClass\\\\\n",
              "  & <fct> & <fct> & <dbl> & <fct>\\\\\n",
              "\\hline\n",
              "\tAllen, Miss. Elisabeth Walton & yes & female & 29.0000 & 1st\\\\\n",
              "\tAllison, Master. Hudson Trevor & yes & male   &  0.9167 & 1st\\\\\n",
              "\tAllison, Miss. Helen Loraine & no  & female &  2.0000 & 1st\\\\\n",
              "\tAllison, Mr. Hudson Joshua Crei & no  & male   & 30.0000 & 1st\\\\\n",
              "\tAllison, Mrs. Hudson J C (Bessi & no  & female & 25.0000 & 1st\\\\\n",
              "\tAnderson, Mr. Harry & yes & male   & 48.0000 & 1st\\\\\n",
              "\\end{tabular}\n"
            ],
            "text/markdown": [
              "\n",
              "A data.frame: 6 × 4\n",
              "\n",
              "| <!--/--> | survived &lt;fct&gt; | sex &lt;fct&gt; | age &lt;dbl&gt; | passengerClass &lt;fct&gt; |\n",
              "|---|---|---|---|---|\n",
              "| Allen, Miss. Elisabeth Walton | yes | female | 29.0000 | 1st |\n",
              "| Allison, Master. Hudson Trevor | yes | male   |  0.9167 | 1st |\n",
              "| Allison, Miss. Helen Loraine | no  | female |  2.0000 | 1st |\n",
              "| Allison, Mr. Hudson Joshua Crei | no  | male   | 30.0000 | 1st |\n",
              "| Allison, Mrs. Hudson J C (Bessi | no  | female | 25.0000 | 1st |\n",
              "| Anderson, Mr. Harry | yes | male   | 48.0000 | 1st |\n",
              "\n"
            ],
            "text/plain": [
              "                                survived sex    age     passengerClass\n",
              "Allen, Miss. Elisabeth Walton   yes      female 29.0000 1st           \n",
              "Allison, Master. Hudson Trevor  yes      male    0.9167 1st           \n",
              "Allison, Miss. Helen Loraine    no       female  2.0000 1st           \n",
              "Allison, Mr. Hudson Joshua Crei no       male   30.0000 1st           \n",
              "Allison, Mrs. Hudson J C (Bessi no       female 25.0000 1st           \n",
              "Anderson, Mr. Harry             yes      male   48.0000 1st           "
            ]
          },
          "metadata": {},
          "output_type": "display_data"
        },
        {
          "data": {
            "image/png": "[encoded data removed]",
            "text/plain": [
              "Plot with title “”"
            ]
          },
          "metadata": {
            "image/png": {
              "height": 420,
              "width": 420
            }
          },
          "output_type": "display_data"
        }
      ],
      "source": [
        "library(car)\n",
        "data(TitanicSurvival)\n",
        "head(TitanicSurvival)\n",
        "plot(survived ~ passengerClass, data = TitanicSurvival)\n"
      ]
    },
    {
      "cell_type": "markdown",
      "metadata": {},
      "source": [
        "### Đáp án\n",
        "\n",
        "Nhìn vào đồ thị biểu diễn mối tương quan giữa hạng vẽ và tỉ lệ sống sót ta thấy được rằng tỉ lệ sống sót của vé hạng nhất cao hơn so với vé hạng ba\n"
      ]
    },
    {
      "cell_type": "markdown",
      "metadata": {},
      "source": [
        "## Câu 6\n",
        "\n",
        "Khi cỡ mẫu để ước lượng tỷ lệ tăng lên, độ lớn của khoảng tin cậy 95% sẽ\n",
        "\n",
        "- [x] Giảm đi\n",
        "- [ ] Tăng lên\n",
        "- [ ] Không thay đổi\n",
        "### Đáp án\n",
        "\n",
        "Giảm đi do càng có nhiều dữ liệu thì ước lượng sẽ càng chính xác khoảng giá trị để ra `true mean`\n",
        "\n",
        "Môt cách khác để giải thích là khi cỡ mẫu tăng lên thì độ lệch chuẩn sẽ giảm đi, từ đó giảm khoảng tin cậy\n",
        "\n"
      ]
    },
    {
      "cell_type": "markdown",
      "metadata": {},
      "source": [
        "## Câu 7\n",
        "\n",
        "Giống câu 3 nhưng thay bằng xe số tự động hay không thông qua biến `am` của bộ dữ liệu `mtcars` và 75% thay vì 50%\n",
        "\n",
        "- [ ] Sự khác biệt giữa p và 75% không có ý nghĩa thống kê do `p-value < 0.5`\n",
        "- [ ] `H0: p!=75%`\n",
        "- [x] `H0: p=75%`\n",
        "- [x] Sự khác biệt giữa p và 75% không có ý nghĩa thống kê do `p-value > 0.5`\n"
      ]
    },
    {
      "cell_type": "code",
      "execution_count": 85,
      "metadata": {
        "vscode": {
          "languageId": "r"
        }
      },
      "outputs": [
        {
          "data": {
            "text/html": [
              "<table class=\"dataframe\">\n",
              "<caption>A data.frame: 6 × 11</caption>\n",
              "<thead>\n",
              "\t<tr><th></th><th scope=col>mpg</th><th scope=col>cyl</th><th scope=col>disp</th><th scope=col>hp</th><th scope=col>drat</th><th scope=col>wt</th><th scope=col>qsec</th><th scope=col>vs</th><th scope=col>am</th><th scope=col>gear</th><th scope=col>carb</th></tr>\n",
              "\t<tr><th></th><th scope=col>&lt;dbl&gt;</th><th scope=col>&lt;dbl&gt;</th><th scope=col>&lt;dbl&gt;</th><th scope=col>&lt;dbl&gt;</th><th scope=col>&lt;dbl&gt;</th><th scope=col>&lt;dbl&gt;</th><th scope=col>&lt;dbl&gt;</th><th scope=col>&lt;dbl&gt;</th><th scope=col>&lt;dbl&gt;</th><th scope=col>&lt;dbl&gt;</th><th scope=col>&lt;dbl&gt;</th></tr>\n",
              "</thead>\n",
              "<tbody>\n",
              "\t<tr><th scope=row>Mazda RX4</th><td>21.0</td><td>6</td><td>160</td><td>110</td><td>3.90</td><td>2.620</td><td>16.46</td><td>0</td><td>1</td><td>4</td><td>4</td></tr>\n",
              "\t<tr><th scope=row>Mazda RX4 Wag</th><td>21.0</td><td>6</td><td>160</td><td>110</td><td>3.90</td><td>2.875</td><td>17.02</td><td>0</td><td>1</td><td>4</td><td>4</td></tr>\n",
              "\t<tr><th scope=row>Datsun 710</th><td>22.8</td><td>4</td><td>108</td><td> 93</td><td>3.85</td><td>2.320</td><td>18.61</td><td>1</td><td>1</td><td>4</td><td>1</td></tr>\n",
              "\t<tr><th scope=row>Hornet 4 Drive</th><td>21.4</td><td>6</td><td>258</td><td>110</td><td>3.08</td><td>3.215</td><td>19.44</td><td>1</td><td>0</td><td>3</td><td>1</td></tr>\n",
              "\t<tr><th scope=row>Hornet Sportabout</th><td>18.7</td><td>8</td><td>360</td><td>175</td><td>3.15</td><td>3.440</td><td>17.02</td><td>0</td><td>0</td><td>3</td><td>2</td></tr>\n",
              "\t<tr><th scope=row>Valiant</th><td>18.1</td><td>6</td><td>225</td><td>105</td><td>2.76</td><td>3.460</td><td>20.22</td><td>1</td><td>0</td><td>3</td><td>1</td></tr>\n",
              "</tbody>\n",
              "</table>\n"
            ],
            "text/latex": [
              "A data.frame: 6 × 11\n",
              "\\begin{tabular}{r|lllllllllll}\n",
              "  & mpg & cyl & disp & hp & drat & wt & qsec & vs & am & gear & carb\\\\\n",
              "  & <dbl> & <dbl> & <dbl> & <dbl> & <dbl> & <dbl> & <dbl> & <dbl> & <dbl> & <dbl> & <dbl>\\\\\n",
              "\\hline\n",
              "\tMazda RX4 & 21.0 & 6 & 160 & 110 & 3.90 & 2.620 & 16.46 & 0 & 1 & 4 & 4\\\\\n",
              "\tMazda RX4 Wag & 21.0 & 6 & 160 & 110 & 3.90 & 2.875 & 17.02 & 0 & 1 & 4 & 4\\\\\n",
              "\tDatsun 710 & 22.8 & 4 & 108 &  93 & 3.85 & 2.320 & 18.61 & 1 & 1 & 4 & 1\\\\\n",
              "\tHornet 4 Drive & 21.4 & 6 & 258 & 110 & 3.08 & 3.215 & 19.44 & 1 & 0 & 3 & 1\\\\\n",
              "\tHornet Sportabout & 18.7 & 8 & 360 & 175 & 3.15 & 3.440 & 17.02 & 0 & 0 & 3 & 2\\\\\n",
              "\tValiant & 18.1 & 6 & 225 & 105 & 2.76 & 3.460 & 20.22 & 1 & 0 & 3 & 1\\\\\n",
              "\\end{tabular}\n"
            ],
            "text/markdown": [
              "\n",
              "A data.frame: 6 × 11\n",
              "\n",
              "| <!--/--> | mpg &lt;dbl&gt; | cyl &lt;dbl&gt; | disp &lt;dbl&gt; | hp &lt;dbl&gt; | drat &lt;dbl&gt; | wt &lt;dbl&gt; | qsec &lt;dbl&gt; | vs &lt;dbl&gt; | am &lt;dbl&gt; | gear &lt;dbl&gt; | carb &lt;dbl&gt; |\n",
              "|---|---|---|---|---|---|---|---|---|---|---|---|\n",
              "| Mazda RX4 | 21.0 | 6 | 160 | 110 | 3.90 | 2.620 | 16.46 | 0 | 1 | 4 | 4 |\n",
              "| Mazda RX4 Wag | 21.0 | 6 | 160 | 110 | 3.90 | 2.875 | 17.02 | 0 | 1 | 4 | 4 |\n",
              "| Datsun 710 | 22.8 | 4 | 108 |  93 | 3.85 | 2.320 | 18.61 | 1 | 1 | 4 | 1 |\n",
              "| Hornet 4 Drive | 21.4 | 6 | 258 | 110 | 3.08 | 3.215 | 19.44 | 1 | 0 | 3 | 1 |\n",
              "| Hornet Sportabout | 18.7 | 8 | 360 | 175 | 3.15 | 3.440 | 17.02 | 0 | 0 | 3 | 2 |\n",
              "| Valiant | 18.1 | 6 | 225 | 105 | 2.76 | 3.460 | 20.22 | 1 | 0 | 3 | 1 |\n",
              "\n"
            ],
            "text/plain": [
              "                  mpg  cyl disp hp  drat wt    qsec  vs am gear carb\n",
              "Mazda RX4         21.0 6   160  110 3.90 2.620 16.46 0  1  4    4   \n",
              "Mazda RX4 Wag     21.0 6   160  110 3.90 2.875 17.02 0  1  4    4   \n",
              "Datsun 710        22.8 4   108   93 3.85 2.320 18.61 1  1  4    1   \n",
              "Hornet 4 Drive    21.4 6   258  110 3.08 3.215 19.44 1  0  3    1   \n",
              "Hornet Sportabout 18.7 8   360  175 3.15 3.440 17.02 0  0  3    2   \n",
              "Valiant           18.1 6   225  105 2.76 3.460 20.22 1  0  3    1   "
            ]
          },
          "metadata": {},
          "output_type": "display_data"
        },
        {
          "data": {
            "text/html": [
              "19"
            ],
            "text/latex": [
              "19"
            ],
            "text/markdown": [
              "19"
            ],
            "text/plain": [
              "[1] 19"
            ]
          },
          "metadata": {},
          "output_type": "display_data"
        },
        {
          "data": {
            "text/html": [
              "32"
            ],
            "text/latex": [
              "32"
            ],
            "text/markdown": [
              "32"
            ],
            "text/plain": [
              "[1] 32"
            ]
          },
          "metadata": {},
          "output_type": "display_data"
        },
        {
          "data": {
            "text/plain": [
              "\n",
              "\t1-sample proportions test with continuity correction\n",
              "\n",
              "data:  x out of n, null probability 0.75\n",
              "X-squared = 3.375, df = 1, p-value = 0.06619\n",
              "alternative hypothesis: true p is not equal to 0.75\n",
              "95 percent confidence interval:\n",
              " 0.4078543 0.7578086\n",
              "sample estimates:\n",
              "      p \n",
              "0.59375 \n"
            ]
          },
          "metadata": {},
          "output_type": "display_data"
        }
      ],
      "source": [
        "library(car)\n",
        "data(mtcars)\n",
        "head(mtcars)\n",
        "x <- sum(mtcars$am == 0)\n",
        "x\n",
        "n <- nrow(mtcars)\n",
        "n\n",
        "prop.test(x = x, n = n, p = 0.75)\n"
      ]
    },
    {
      "cell_type": "code",
      "execution_count": 1,
      "metadata": {
        "vscode": {
          "languageId": "r"
        }
      },
      "outputs": [
        {
          "name": "stderr",
          "output_type": "stream",
          "text": [
            "Warning message in library():\n",
            "“library ‘/usr/lib/R/site-library’ contains no packages”\n"
          ]
        },
        {
          "name": "stdout",
          "output_type": "stream",
          "text": [
            "R packages available\n",
            "\n",
            "Packages in library ‘/usr/local/lib/R/site-library’:\n",
            "\n",
            "abind                   Combine Multidimensional Arrays\n",
            "anytime                 Anything to 'POSIXct' or 'Date' Converter\n",
            "askpass                 Password Entry Utilities for R, Git, and SSH\n",
            "assertthat              Easy Pre and Post Assertions\n",
            "backports               Reimplementations of Functions Introduced Since\n",
            "                        R-3.0.0\n",
            "base64enc               Tools for base64 encoding\n",
            "BH                      Boost C++ Header Files\n",
            "bigD                    Flexibly Format Dates and Times to a Given\n",
            "                        Locale\n",
            "bit                     Classes and Methods for Fast Memory-Efficient\n",
            "                        Boolean Selections\n",
            "bit64                   A S3 Class for Vectors of 64bit Integers\n",
            "bitops                  Bitwise Operations\n",
            "blob                    A Simple S3 Class for Representing Vectors of\n",
            "                        Binary Data ('BLOBS')\n",
            "boot                    Bootstrap Functions (Originally by Angelo Canty\n",
            "                        for S)\n",
            "brew                    Templating Framework for Report Generation\n",
            "brio                    Basic R Input Output\n",
            "broom                   Convert Statistical Objects into Tidy Tibbles\n",
            "BSDA                    Basic Statistics and Data Analysis\n",
            "bslib                   Custom 'Bootstrap' 'Sass' Themes for 'shiny'\n",
            "                        and 'rmarkdown'\n",
            "cachem                  Cache R Objects with Automatic Pruning\n",
            "callr                   Call R from R\n",
            "car                     Companion to Applied Regression\n",
            "carData                 Companion to Applied Regression Data Sets\n",
            "caret                   Classification and Regression Training\n",
            "cellranger              Translate Spreadsheet Cell Ranges to Rows and\n",
            "                        Columns\n",
            "checkmate               Fast and Versatile Argument Checks\n",
            "class                   Functions for Classification\n",
            "cli                     Helpers for Developing Command Line Interfaces\n",
            "clipr                   Read and Write from the System Clipboard\n",
            "clock                   Date-Time Types and Tools\n",
            "cluster                 \"Finding Groups in Data\": Cluster Analysis\n",
            "                        Extended Rousseeuw et al.\n",
            "codetools               Code Analysis Tools for R\n",
            "collections             High Performance Container Data Types\n",
            "colorspace              A Toolbox for Manipulating and Assessing Colors\n",
            "                        and Palettes\n",
            "commonmark              High Performance CommonMark and Github Markdown\n",
            "                        Rendering in R\n",
            "conflicted              An Alternative Conflict Resolution Strategy\n",
            "cpp11                   A C++11 Interface for R's C Interface\n",
            "crayon                  Colored Terminal Output\n",
            "crosstalk               Inter-Widget Interactivity for HTML Widgets\n",
            "curl                    A Modern and Flexible Web Client for R\n",
            "cyclocomp               Cyclomatic Complexity of R Code\n",
            "data.table              Extension of `data.frame`\n",
            "datapasta               R Tools for Data Copy-Pasta\n",
            "DBI                     R Database Interface\n",
            "dbplyr                  A 'dplyr' Back End for Databases\n",
            "desc                    Manipulate DESCRIPTION Files\n",
            "diagram                 Functions for Visualising Simple Graphs\n",
            "                        (Networks), Plotting Flow Diagrams\n",
            "dials                   Tools for Creating Tuning Parameter Values\n",
            "DiceDesign              Designs of Computer Experiments\n",
            "diffobj                 Diffs for R Objects\n",
            "digest                  Create Compact Hash Digests of R Objects\n",
            "distributional          Vectorised Probability Distributions\n",
            "doFuture                Use Foreach to Parallelize via the Future\n",
            "                        Framework\n",
            "doParallel              Foreach Parallel Adaptor for the 'parallel'\n",
            "                        Package\n",
            "downlit                 Syntax Highlighting and Automatic Linking\n",
            "dplyr                   A Grammar of Data Manipulation\n",
            "dtplyr                  Data Table Back-End for 'dplyr'\n",
            "dygraphs                Interface to 'Dygraphs' Interactive Time Series\n",
            "                        Charting Library\n",
            "e1071                   Misc Functions of the Department of Statistics,\n",
            "                        Probability Theory Group (Formerly: E1071), TU\n",
            "                        Wien\n",
            "ellipsis                Tools for Working with ...\n",
            "evaluate                Parsing and Evaluation Tools that Provide More\n",
            "                        Details than the Default\n",
            "extraDistr              Additional Univariate and Multivariate\n",
            "                        Distributions\n",
            "fansi                   ANSI Control Sequence Aware String Functions\n",
            "farver                  High Performance Colour Space Manipulation\n",
            "fastmap                 Fast Data Structures\n",
            "fontawesome             Easily Work with 'Font Awesome' Icons\n",
            "forcats                 Tools for Working with Categorical Variables\n",
            "                        (Factors)\n",
            "foreach                 Provides Foreach Looping Construct\n",
            "forecast                Forecasting Functions for Time Series and\n",
            "                        Linear Models\n",
            "foreign                 Read Data Stored by 'Minitab', 'S', 'SAS',\n",
            "                        'SPSS', 'Stata', 'Systat', 'Weka', 'dBase', ...\n",
            "Formula                 Extended Model Formulas\n",
            "fracdiff                Fractionally Differenced ARIMA aka\n",
            "                        ARFIMA(P,d,q) Models\n",
            "fs                      Cross-Platform File System Operations Based on\n",
            "                        'libuv'\n",
            "furrr                   Apply Mapping Functions in Parallel using\n",
            "                        Futures\n",
            "future                  Unified Parallel and Distributed Processing in\n",
            "                        R for Everyone\n",
            "future.apply            Apply Function to Elements in Parallel using\n",
            "                        Futures\n",
            "gargle                  Utilities for Working with Google APIs\n",
            "generics                Common S3 Generics not Provided by Base R\n",
            "                        Methods Related to Model Fitting\n",
            "ggplot2                 Create Elegant Data Visualisations Using the\n",
            "                        Grammar of Graphics\n",
            "ggvis                   Interactive Grammar of Graphics\n",
            "gitcreds                Query 'git' Credentials from 'R'\n",
            "glmnet                  Lasso and Elastic-Net Regularized Generalized\n",
            "                        Linear Models\n",
            "globals                 Identify Global Objects in R Expressions\n",
            "glue                    Interpreted String Literals\n",
            "googledrive             An Interface to Google Drive\n",
            "googlesheets4           Access Google Sheets using the Sheets API V4\n",
            "googleVis               R Interface to Google Charts\n",
            "gower                   Gower's Distance\n",
            "GPfit                   Gaussian Processes Modeling\n",
            "gridExtra               Miscellaneous Functions for \"Grid\" Graphics\n",
            "gtable                  Arrange 'Grobs' in Tables\n",
            "hardhat                 Construct Modeling Packages\n",
            "haven                   Import and Export 'SPSS', 'Stata' and 'SAS'\n",
            "                        Files\n",
            "here                    A Simpler Way to Find Your Files\n",
            "highr                   Syntax Highlighting for R Source Code\n",
            "HistData                Data Sets from the History of Statistics and\n",
            "                        Data Visualization\n",
            "Hmisc                   Harrell Miscellaneous\n",
            "hms                     Pretty Time of Day\n",
            "htmlTable               Advanced Tables for Markdown/HTML\n",
            "htmltools               Tools for HTML\n",
            "htmlwidgets             HTML Widgets for R\n",
            "httpuv                  HTTP and WebSocket Server Library\n",
            "httr                    Tools for Working with URLs and HTTP\n",
            "ids                     Generate Random Identifiers\n",
            "infer                   Tidy Statistical Inference\n",
            "ini                     Read and Write '.ini' Files\n",
            "inline                  Functions to Inline C, C++, Fortran Function\n",
            "                        Calls from R\n",
            "ipred                   Improved Predictors\n",
            "IRdisplay               'Jupyter' Display Machinery\n",
            "IRkernel                Native R Kernel for the 'Jupyter Notebook'\n",
            "isoband                 Generate Isolines and Isobands from Regularly\n",
            "                        Spaced Elevation Grids\n",
            "iterators               Provides Iterator Construct\n",
            "janitor                 Simple Tools for Examining and Cleaning Dirty\n",
            "                        Data\n",
            "jpeg                    Read and write JPEG images\n",
            "jquerylib               Obtain 'jQuery' as an HTML Dependency Object\n",
            "jsonlite                A Simple and Robust JSON Parser and Generator\n",
            "                        for R\n",
            "KernSmooth              Functions for Kernel Smoothing Supporting Wand\n",
            "                        & Jones (1995)\n",
            "knitr                   A General-Purpose Package for Dynamic Report\n",
            "                        Generation in R\n",
            "labeling                Axis Labeling\n",
            "languageserver          Language Server Protocol\n",
            "later                   Utilities for Scheduling Functions to Execute\n",
            "                        Later with Event Loops\n",
            "lattice                 Trellis Graphics for R\n",
            "lava                    Latent Variable Models\n",
            "lazyeval                Lazy (Non-Standard) Evaluation\n",
            "lhs                     Latin Hypercube Samples\n",
            "lifecycle               Manage the Life Cycle of your Package Functions\n",
            "lintr                   A 'Linter' for R Code\n",
            "listenv                 Environments Behaving (Almost) as Lists\n",
            "lme4                    Linear Mixed-Effects Models using 'Eigen' and\n",
            "                        S4\n",
            "lmtest                  Testing Linear Regression Models\n",
            "loo                     Efficient Leave-One-Out Cross-Validation and\n",
            "                        WAIC for Bayesian Models\n",
            "lubridate               Make Dealing with Dates a Little Easier\n",
            "magrittr                A Forward-Pipe Operator for R\n",
            "maps                    Draw Geographical Maps\n",
            "markdown                Render Markdown with 'commonmark'\n",
            "MASS                    Support Functions and Datasets for Venables and\n",
            "                        Ripley's MASS\n",
            "Matrix                  Sparse and Dense Matrix Classes and Methods\n",
            "MatrixModels            Modelling with Sparse and Dense Matrices\n",
            "matrixStats             Functions that Apply to Rows and Columns of\n",
            "                        Matrices (and to Vectors)\n",
            "memoise                 'Memoisation' of Functions\n",
            "mgcv                    Mixed GAM Computation Vehicle with Automatic\n",
            "                        Smoothness Estimation\n",
            "mime                    Map Filenames to MIME Types\n",
            "miniUI                  Shiny UI Widgets for Small Screens\n",
            "minqa                   Derivative-Free Optimization Algorithms by\n",
            "                        Quadratic Approximation\n",
            "modeldata               Data Sets Useful for Modeling Examples\n",
            "modelenv                Provide Tools to Register Models for Use in\n",
            "                        'tidymodels'\n",
            "ModelMetrics            Rapid Calculation of Model Metrics\n",
            "modelr                  Modelling Functions that Work with the Pipe\n",
            "multcomp                Simultaneous Inference in General Parametric\n",
            "                        Models\n",
            "munsell                 Utilities for Using Munsell Colours\n",
            "mvtnorm                 Multivariate Normal and t Distributions\n",
            "nlme                    Linear and Nonlinear Mixed Effects Models\n",
            "nloptr                  R Interface to NLopt\n",
            "nnet                    Feed-Forward Neural Networks and Multinomial\n",
            "                        Log-Linear Models\n",
            "nortest                 Tests for Normality\n",
            "numDeriv                Accurate Numerical Derivatives\n",
            "openssl                 Toolkit for Encryption, Signatures and\n",
            "                        Certificates Based on OpenSSL\n",
            "pacman                  Package Management Tool\n",
            "padr                    Quickly Get Datetime Data Ready for Analysis\n",
            "parallelly              Enhancing the 'parallel' Package\n",
            "parsnip                 A Common API to Modeling and Analysis Functions\n",
            "patchwork               The Composer of Plots\n",
            "pbdZMQ                  Programming with Big Data -- Interface to\n",
            "                        'ZeroMQ'\n",
            "pbkrtest                Parametric Bootstrap, Kenward-Roger and\n",
            "                        Satterthwaite Based Methods for Test in Mixed\n",
            "                        Models\n",
            "PerformanceAnalytics    Econometric Tools for Performance and Risk\n",
            "                        Analysis\n",
            "pillar                  Coloured Formatting for Columns\n",
            "pkgbuild                Find Tools Needed to Build R Packages\n",
            "pkgconfig               Private Configuration for 'R' Packages\n",
            "pkgload                 Simulate Package Installation and Attach\n",
            "plogr                   The 'plog' C++ Logging Library\n",
            "plyr                    Tools for Splitting, Applying and Combining\n",
            "                        Data\n",
            "png                     Read and write PNG images\n",
            "posterior               Tools for Working with Posterior Distributions\n",
            "praise                  Praise Users\n",
            "prettyunits             Pretty, Human Readable Formatting of Quantities\n",
            "pROC                    Display and Analyze ROC Curves\n",
            "processx                Execute and Control System Processes\n",
            "prodlim                 Product-Limit Estimation for Censored Event\n",
            "                        History Analysis\n",
            "profvis                 Interactive Visualizations for Profiling R Code\n",
            "progress                Terminal Progress Bars\n",
            "progressr               An Inclusive, Unifying API for Progress Updates\n",
            "promises                Abstractions for Promise-Based Asynchronous\n",
            "                        Programming\n",
            "prophet                 Automatic Forecasting Procedure\n",
            "proxy                   Distance and Similarity Measures\n",
            "ps                      List, Query, Manipulate System Processes\n",
            "purrr                   Functional Programming Tools\n",
            "quadprog                Functions to Solve Quadratic Programming\n",
            "                        Problems\n",
            "quantmod                Quantitative Financial Modelling Framework\n",
            "quantreg                Quantile Regression\n",
            "QuickJSR                Interface for the 'QuickJS' Lightweight\n",
            "                        'JavaScript' Engine\n",
            "R.cache                 Fast and Light-Weight Caching (Memoization) of\n",
            "                        Objects and Results to Speed Up Computations\n",
            "R.methodsS3             S3 Methods Simplified\n",
            "R.oo                    R Object-Oriented Programming with or without\n",
            "                        References\n",
            "R.utils                 Various Programming Utilities\n",
            "R6                      Encapsulated Classes with Reference Semantics\n",
            "ragg                    Graphic Devices Based on AGG\n",
            "randomForest            Breiman and Cutler's Random Forests for\n",
            "                        Classification and Regression\n",
            "rappdirs                Application Directories: Determine Where to\n",
            "                        Save Data, Caches, and Logs\n",
            "RColorBrewer            ColorBrewer Palettes\n",
            "Rcpp                    Seamless R and C++ Integration\n",
            "RcppArmadillo           'Rcpp' Integration for the 'Armadillo'\n",
            "                        Templated Linear Algebra Library\n",
            "RcppEigen               'Rcpp' Integration for the 'Eigen' Templated\n",
            "                        Linear Algebra Library\n",
            "RcppParallel            Parallel Programming Tools for 'Rcpp'\n",
            "RcppRoll                Efficient Rolling / Windowed Operations\n",
            "reactable               Interactive Data Tables for R\n",
            "reactR                  React Helpers\n",
            "readr                   Read Rectangular Text Data\n",
            "readxl                  Read Excel Files\n",
            "recipes                 Preprocessing and Feature Engineering Steps for\n",
            "                        Modeling\n",
            "rematch                 Match Regular Expressions with a Nicer 'API'\n",
            "rematch2                Tidy Output from Regular Expression Matching\n",
            "remotes                 R Package Installation from Remote\n",
            "                        Repositories, Including 'GitHub'\n",
            "repr                    Serializable Representations\n",
            "reprex                  Prepare Reproducible Example Code via the\n",
            "                        Clipboard\n",
            "reshape2                Flexibly Reshape Data: A Reboot of the Reshape\n",
            "                        Package\n",
            "rex                     Friendly Regular Expressions\n",
            "rgl                     3D Visualization Using OpenGL\n",
            "RgoogleMaps             Overlays on Static Maps\n",
            "rjson                   JSON for R\n",
            "rlang                   Functions for Base Types and Core R and\n",
            "                        'Tidyverse' Features\n",
            "rmarkdown               Dynamic Documents for R\n",
            "roxygen2                In-Line Documentation for R\n",
            "rpart                   Recursive Partitioning and Regression Trees\n",
            "rprojroot               Finding Files in Project Subdirectories\n",
            "rsample                 General Resampling Infrastructure\n",
            "RSQLite                 SQLite Interface for R\n",
            "rstan                   R Interface to Stan\n",
            "rstantools              Tools for Developing R Packages Interfacing\n",
            "                        with 'Stan'\n",
            "rstudioapi              Safely Access the RStudio API\n",
            "rvest                   Easily Harvest (Scrape) Web Pages\n",
            "sandwich                Robust Covariance Matrix Estimators\n",
            "sass                    Syntactically Awesome Style Sheets ('Sass')\n",
            "scales                  Scale Functions for Visualization\n",
            "selectr                 Translate CSS Selectors to XPath Expressions\n",
            "semantic.assets         Assets for 'shiny.semantic'\n",
            "sessioninfo             R Session Information\n",
            "shape                   Functions for Plotting Graphical Shapes, Colors\n",
            "shiny                   Web Application Framework for R\n",
            "shiny.semantic          Semantic UI Support for Shiny\n",
            "slider                  Sliding Window Functions\n",
            "snakecase               Convert Strings into any Case\n",
            "sourcetools             Tools for Reading, Tokenizing and Parsing R\n",
            "                        Code\n",
            "sp                      Classes and Methods for Spatial Data\n",
            "SparseM                 Sparse Linear Algebra\n",
            "spatial                 Functions for Kriging and Point Pattern\n",
            "                        Analysis\n",
            "SQUAREM                 Squared Extrapolation Methods for Accelerating\n",
            "                        EM-Like Monotone Algorithms\n",
            "StanHeaders             C++ Header Files for Stan\n",
            "stringi                 Fast and Portable Character String Processing\n",
            "                        Facilities\n",
            "stringr                 Simple, Consistent Wrappers for Common String\n",
            "                        Operations\n",
            "styler                  Non-Invasive Pretty Printing of R Code\n",
            "survival                Survival Analysis\n",
            "sys                     Powerful and Reliable Tools for Running System\n",
            "                        Commands in R\n",
            "systemfonts             System Native Font Finding\n",
            "tensorA                 Advanced Tensor Arithmetic with Named Indices\n",
            "testthat                Unit Testing for R\n",
            "textshaping             Bindings to the 'HarfBuzz' and 'Fribidi'\n",
            "                        Libraries for Text Shaping\n",
            "TH.data                 TH's Data Archive\n",
            "tibble                  Simple Data Frames\n",
            "tidymodels              Easily Install and Load the 'Tidymodels'\n",
            "                        Packages\n",
            "tidyr                   Tidy Messy Data\n",
            "tidyselect              Select from a Set of Strings\n",
            "tidyverse               Easily Install and Load the 'Tidyverse'\n",
            "timechange              Efficient Manipulation of Date-Times\n",
            "timeDate                Rmetrics - Chronological and Calendar Objects\n",
            "tinytex                 Helper Functions to Install and Maintain TeX\n",
            "                        Live, and Compile LaTeX Documents\n",
            "tseries                 Time Series Analysis and Computational Finance\n",
            "TTR                     Technical Trading Rules\n",
            "tune                    Tidy Tuning Tools\n",
            "tzdb                    Time Zone Database Information\n",
            "urca                    Unit Root and Cointegration Tests for Time\n",
            "                        Series Data\n",
            "UsingR                  Data Sets, Etc. for the Text \"Using R for\n",
            "                        Introductory Statistics\", Second Edition\n",
            "utf8                    Unicode Text Processing\n",
            "uuid                    Tools for Generating and Handling of UUIDs\n",
            "vcd                     Visualizing Categorical Data\n",
            "vctrs                   Vector Helpers\n",
            "viridis                 Colorblind-Friendly Color Maps for R\n",
            "viridisLite             Colorblind-Friendly Color Maps (Lite Version)\n",
            "vroom                   Read and Write Rectangular Text Data Quickly\n",
            "waldo                   Find Differences Between R Objects\n",
            "warp                    Group Dates\n",
            "whisker                 {{mustache}} for R, Logicless Templating\n",
            "withr                   Run Code 'With' Temporarily Modified Global\n",
            "                        State\n",
            "workflows               Modeling Workflows\n",
            "workflowsets            Create a Collection of 'tidymodels' Workflows\n",
            "xfun                    Supporting Functions for Packages Maintained by\n",
            "                        'Yihui Xie'\n",
            "xgboost                 Extreme Gradient Boosting\n",
            "XML                     Tools for Parsing and Generating XML Within R\n",
            "                        and S-Plus\n",
            "xml2                    Parse XML\n",
            "xmlparsedata            Parse Data of 'R' Code as an 'XML' Tree\n",
            "XNomial                 Exact Goodness-of-Fit Test for Multinomial Data\n",
            "                        with Fixed Probabilities\n",
            "xopen                   Open System Files, 'URLs', Anything\n",
            "xtable                  Export Tables to LaTeX or HTML\n",
            "xts                     eXtensible Time Series\n",
            "yaml                    Methods to Convert R Data to YAML and Back\n",
            "yardstick               Tidy Characterizations of Model Performance\n",
            "zip                     Cross-Platform 'zip' Compression\n",
            "zoo                     S3 Infrastructure for Regular and Irregular\n",
            "                        Time Series (Z's Ordered Observations)\n",
            "\n",
            "Packages in library ‘/usr/lib/R/library’:\n",
            "\n",
            "base                    The R Base Package\n",
            "boot                    Bootstrap Functions (Originally by Angelo Canty\n",
            "                        for S)\n",
            "class                   Functions for Classification\n",
            "cluster                 \"Finding Groups in Data\": Cluster Analysis\n",
            "                        Extended Rousseeuw et al.\n",
            "codetools               Code Analysis Tools for R\n",
            "compiler                The R Compiler Package\n",
            "datasets                The R Datasets Package\n",
            "foreign                 Read Data Stored by 'Minitab', 'S', 'SAS',\n",
            "                        'SPSS', 'Stata', 'Systat', 'Weka', 'dBase', ...\n",
            "graphics                The R Graphics Package\n",
            "grDevices               The R Graphics Devices and Support for Colours\n",
            "                        and Fonts\n",
            "grid                    The Grid Graphics Package\n",
            "KernSmooth              Functions for Kernel Smoothing Supporting Wand\n",
            "                        & Jones (1995)\n",
            "lattice                 Trellis Graphics for R\n",
            "MASS                    Support Functions and Datasets for Venables and\n",
            "                        Ripley's MASS\n",
            "Matrix                  Sparse and Dense Matrix Classes and Methods\n",
            "methods                 Formal Methods and Classes\n",
            "mgcv                    Mixed GAM Computation Vehicle with Automatic\n",
            "                        Smoothness Estimation\n",
            "nlme                    Linear and Nonlinear Mixed Effects Models\n",
            "nnet                    Feed-Forward Neural Networks and Multinomial\n",
            "                        Log-Linear Models\n",
            "parallel                Support for Parallel computation in R\n",
            "rpart                   Recursive Partitioning and Regression Trees\n",
            "spatial                 Functions for Kriging and Point Pattern\n",
            "                        Analysis\n",
            "splines                 Regression Spline Functions and Classes\n",
            "stats                   The R Stats Package\n",
            "stats4                  Statistical Functions using S4 Classes\n",
            "survival                Survival Analysis\n",
            "tcltk                   Tcl/Tk Interface\n",
            "tools                   Tools for Package Development\n",
            "utils                   The R Utils Package"
          ]
        }
      ],
      "source": [
        "# library(MASS)\n",
        "# data(survey)\n",
        "# library(dplyr) # For data manipulation\n",
        "# library(ggplot2) # For plotting\n",
        "# head(survey)\n",
        "library()\n"
      ]
    }
  ],
  "metadata": {
    "kernelspec": {
      "display_name": "R",
      "language": "R",
      "name": "ir"
    },
    "language_info": {
      "codemirror_mode": "r",
      "file_extension": ".r",
      "mimetype": "text/x-r-source",
      "name": "R",
      "pygments_lexer": "r",
      "version": "4.2.2"
    }
  },
  "nbformat": 4,
  "nbformat_minor": 2
}
