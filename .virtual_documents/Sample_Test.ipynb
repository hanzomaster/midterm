


# Install packages
install.packages(c('pacman','MASS', 'car', 'BSDA', 'nortest', 'UsingR', 'lattice', 'XNomial'))


library(pacman)
p_load('MASS', 'car', 'BSDA', 'nortest', 'UsingR', 'lattice', 'XNomial')


convert <- function(s) {
    # gsub(" ", ", ", s)
    as.vector(as.numeric(strsplit(s, '\\s+')[[1]]))
}











tsum.test(mean.x=7.5, s.x=2.5, conf.level=0.95, n.x=20)
tsum.test(mean.x=7.5, s.x=2.5, conf.level=0.95, n.x=21)





measure <- c(341, 345, 338, 339, 340, 343, 341, 343, 341, 328, 343, 347, 337, 348, 339)
t.test(measure, conf.level=0.90)
t.test(measure, conf.level=0.95)








data <- c(convert('5.78796667787702 5.61631038470897 5.79453558284314 5.23696996364743
6.65413784413579 5.07114045555179 6.54711172666116 8.80159577330898
5.24234813265502 5.61284507904202'))
shapiro.test(data)


data <- c(convert('5.52626722911373 5.09298190448592 5.95539747919412 5.47899163424427
6.55637421450558 8.06100659055596 5.09511290012723 5.08687454508618
6.34837774462522 7.29940791601751'))
shapiro.test(data)





prop.test(x=10, n=60, p=0.5, conf.level = 0.9)
prop.test(x=10, n=100, p=0.5, conf.level = 0.9)





prop.test(x=10, n=60, p=0.5, conf.level = 0.9)
prop.test(x=10, n=60, p=0.5, conf.level = 0.95)














tw <- c(8.0, 7.0, 5.0, 9.0, 9.5, 11.3, 5.2, 8.5)
s <- sd(tw)
m <- mean(tw)

alpha <- 0.1
z <- qt(alpha/2, df=length(tw)-1)
# z <- qnorm(1-alpha/2)
e <- 0.035*m
new_n <- (z*s/e)^2
new_n





alpha <- 0.05 # 1-conf
p <- 0.4 # xác suất p
e <- p*0.01 # % sai số
z <- qnorm(1-alpha/2) # z bằng -qnorm(alpha/2)
z
n_new <- (z/e)^2*p*(1-p)
n_new
